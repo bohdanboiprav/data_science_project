{
 "cells": [
  {
   "cell_type": "markdown",
   "source": [
    "## Introduction\n",
    "Welcome to my **awesome** class. You \n",
    "will learn all kinds of useful things \n",
    "about Data Analytics.\n",
    "- Markdown is simple\n",
    "- You can add Python and R code\n",
    "- You can add $\\LaTeX$ equations\n",
    "- you can add images:\n",
    "![ ](https://i.imgflip.com/3pw1vi.jpg)"
   ],
   "metadata": {
    "collapsed": false
   },
   "id": "e31d45bc4e92b129"
  },
  {
   "cell_type": "markdown",
   "source": [
    "! pip install plotly_express\n",
    "import plotly.express as px\n",
    "fig = px.scatter(\n",
    "  x=[0, 1, 2, 3, 4], \n",
    "  y=[0, 1, 4, 9, 16])\n",
    "fig.show()"
   ],
   "metadata": {
    "collapsed": false
   },
   "id": "133608ae630fb5f4"
  },
  {
   "cell_type": "code",
   "execution_count": null,
   "outputs": [],
   "source": [],
   "metadata": {
    "collapsed": false
   },
   "id": "187c7dd9bddcfb04"
  }
 ],
 "metadata": {
  "kernelspec": {
   "display_name": "Python 3",
   "language": "python",
   "name": "python3"
  },
  "language_info": {
   "codemirror_mode": {
    "name": "ipython",
    "version": 2
   },
   "file_extension": ".py",
   "mimetype": "text/x-python",
   "name": "python",
   "nbconvert_exporter": "python",
   "pygments_lexer": "ipython2",
   "version": "2.7.6"
  }
 },
 "nbformat": 4,
 "nbformat_minor": 5
}
